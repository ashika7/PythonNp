{
 "cells": [
  {
   "cell_type": "markdown",
   "metadata": {},
   "source": [
    "# Numpy Exercise  <img src = \"numpy1.png\">\n",
    "###### Authored by T.K.Senthil Kumar"
   ]
  },
  {
   "cell_type": "markdown",
   "metadata": {},
   "source": [
    "#### 1. Create a numpy array with the number of elements equals your age. The value of array elements is a random number between 10 to your age "
   ]
  },
  {
   "cell_type": "code",
   "execution_count": 1,
   "metadata": {},
   "outputs": [
    {
     "name": "stdout",
     "output_type": "stream",
     "text": [
      "[18 10 14 22 16 22 17 12 12 10 12 12 20 23 18 16 15 14 20 22 13 12 11 14]\n"
     ]
    }
   ],
   "source": [
    "import numpy as np\n",
    "a = np.random.randint(10,24,24)\n",
    "print(a)"
   ]
  },
  {
   "cell_type": "markdown",
   "metadata": {},
   "source": [
    "#### 2. Create a numpy array between 1 to 50 with the span(space) of 2 and print the length of the array"
   ]
  },
  {
   "cell_type": "code",
   "execution_count": 2,
   "metadata": {},
   "outputs": [
    {
     "name": "stdout",
     "output_type": "stream",
     "text": [
      "[ 1  3  5  7  9 11 13 15 17 19 21 23 25 27 29 31 33 35 37 39 41 43 45 47\n",
      " 49]\n",
      "length: 25\n"
     ]
    }
   ],
   "source": [
    "b = np.arange(1,50,2)\n",
    "print(b)\n",
    "print(\"length:\", len(b))"
   ]
  },
  {
   "cell_type": "markdown",
   "metadata": {},
   "source": [
    "#### 3. Create an equally spaced numpy array with 27 elements between 4 and 7 "
   ]
  },
  {
   "cell_type": "code",
   "execution_count": 3,
   "metadata": {},
   "outputs": [
    {
     "name": "stdout",
     "output_type": "stream",
     "text": [
      "[4.         4.11538462 4.23076923 4.34615385 4.46153846 4.57692308\n",
      " 4.69230769 4.80769231 4.92307692 5.03846154 5.15384615 5.26923077\n",
      " 5.38461538 5.5        5.61538462 5.73076923 5.84615385 5.96153846\n",
      " 6.07692308 6.19230769 6.30769231 6.42307692 6.53846154 6.65384615\n",
      " 6.76923077 6.88461538 7.        ]\n"
     ]
    }
   ],
   "source": [
    "c = np.linspace(4,7,27)\n",
    "print(c)"
   ]
  },
  {
   "cell_type": "markdown",
   "metadata": {},
   "source": [
    "#### 4. Create a matrix of size (5 x 4) with random numbers and round off the each elements by only 2 fractional points."
   ]
  },
  {
   "cell_type": "code",
   "execution_count": 4,
   "metadata": {},
   "outputs": [
    {
     "name": "stdout",
     "output_type": "stream",
     "text": [
      "Original matrix: \n",
      " [[-0.07793136  0.11295672 -0.57979465 -0.02562164]\n",
      " [ 0.31082617  0.40973652  1.76740123 -0.51114303]\n",
      " [ 0.24987857 -0.33270095 -0.27324173  0.75688836]\n",
      " [ 0.36181435 -0.23414867  1.24044177  0.51179854]\n",
      " [-2.43847417 -0.14748417 -1.07822843 -1.4312917 ]]\n",
      "Rounded off matrix: \n",
      " [[-0.08  0.11 -0.58 -0.03]\n",
      " [ 0.31  0.41  1.77 -0.51]\n",
      " [ 0.25 -0.33 -0.27  0.76]\n",
      " [ 0.36 -0.23  1.24  0.51]\n",
      " [-2.44 -0.15 -1.08 -1.43]]\n"
     ]
    }
   ],
   "source": [
    "d = np.random.randn(5,4)\n",
    "print(\"Original matrix: \\n\", d)\n",
    "print(\"Rounded off matrix: \\n\", np.round(d,2))"
   ]
  },
  {
   "cell_type": "markdown",
   "metadata": {},
   "source": [
    "#### 5. Create a matrix of size (5x5) with random integers between 5 to 15"
   ]
  },
  {
   "cell_type": "code",
   "execution_count": 5,
   "metadata": {},
   "outputs": [
    {
     "name": "stdout",
     "output_type": "stream",
     "text": [
      "matrix: \n",
      " [[11  6 12  8  6]\n",
      " [ 7 13 11 11 13]\n",
      " [ 7 14  7  8  9]\n",
      " [ 5  9 10  7  5]\n",
      " [11  5 11  5 13]]\n"
     ]
    }
   ],
   "source": [
    "e = np.random.randint(5,15,(5,5))\n",
    "print(\"matrix: \\n\",e)"
   ]
  },
  {
   "cell_type": "markdown",
   "metadata": {},
   "source": [
    "#### 6. Create the one dimensional array of zeros of random length below 20 with the data type int32"
   ]
  },
  {
   "cell_type": "code",
   "execution_count": 6,
   "metadata": {},
   "outputs": [
    {
     "name": "stdout",
     "output_type": "stream",
     "text": [
      "1d array: [0 0 0 0 0 0 0]\n"
     ]
    }
   ],
   "source": [
    "f = np.zeros(7, dtype=int)\n",
    "print(\"1d array:\",f)"
   ]
  },
  {
   "cell_type": "markdown",
   "metadata": {},
   "source": [
    "#### 7. Create a two dimensional array of ones of random row and column lengths with the data type of float32 "
   ]
  },
  {
   "cell_type": "code",
   "execution_count": 7,
   "metadata": {},
   "outputs": [
    {
     "name": "stdout",
     "output_type": "stream",
     "text": [
      "2d array: \n",
      " [[1. 1. 1.]\n",
      " [1. 1. 1.]]\n"
     ]
    }
   ],
   "source": [
    "g = np.ones((2,3), dtype=float)\n",
    "print(\"2d array: \\n\",g)"
   ]
  },
  {
   "cell_type": "markdown",
   "metadata": {},
   "source": [
    "#### 8. Create a matrix exactly as same as shown below and print its shape, type and dtype\n",
    "<img src = \"np_mat1.png\">"
   ]
  },
  {
   "cell_type": "code",
   "execution_count": 8,
   "metadata": {},
   "outputs": [
    {
     "name": "stdout",
     "output_type": "stream",
     "text": [
      "matrix value: \n",
      " [[ 9 25 50 34 45]\n",
      " [ 3 34 34 65  2]\n",
      " [ 5  7  3 76  3]\n",
      " [ 7  8  6 54  6]\n",
      " [23 12  8  5  8]]\n",
      "matrix shape: (5, 5)\n",
      "matrix type: <class 'numpy.ndarray'>\n",
      "matrix dtype: int32\n"
     ]
    }
   ],
   "source": [
    "h = np.array([[9,25,50,34,45],[3,34,34,65,2],[5,7,3,76,3],[7,8,6,54,6],[23,12,8,5,8]])\n",
    "print(\"matrix value: \\n\", h)\n",
    "print(\"matrix shape:\", h.shape)\n",
    "print(\"matrix type:\", type(h))\n",
    "print(\"matrix dtype:\", h.dtype)"
   ]
  },
  {
   "cell_type": "markdown",
   "metadata": {},
   "source": [
    "#### 9. Access the center pixel of the matrix defined in the question no 8 ( Don't enter the row and column index explicitely)"
   ]
  },
  {
   "cell_type": "code",
   "execution_count": 9,
   "metadata": {},
   "outputs": [
    {
     "name": "stdout",
     "output_type": "stream",
     "text": [
      "matrix: \n",
      " [[ 9 25 50 34 45]\n",
      " [ 3 34 34 65  2]\n",
      " [ 5  7  3 76  3]\n",
      " [ 7  8  6 54  6]\n",
      " [23 12  8  5  8]]\n",
      "center value of the matrix: 3\n"
     ]
    }
   ],
   "source": [
    "h = np.array([[9,25,50,34,45],[3,34,34,65,2],[5,7,3,76,3],[7,8,6,54,6],[23,12,8,5,8]])\n",
    "print(\"matrix: \\n\", h)\n",
    "hnew = h.flatten()\n",
    "mv = hnew[int(len(hnew)/2)]\n",
    "print(\"center value of the matrix:\", mv)"
   ]
  },
  {
   "cell_type": "markdown",
   "metadata": {},
   "source": [
    "#### 10. Print the all the elements of 3rd row of the matrix"
   ]
  },
  {
   "cell_type": "code",
   "execution_count": 10,
   "metadata": {},
   "outputs": [
    {
     "name": "stdout",
     "output_type": "stream",
     "text": [
      "[[ 9 25 50 34 45]\n",
      " [ 3 34 34 65  2]\n",
      " [ 5  7  3 76  3]\n",
      " [ 7  8  6 54  6]\n",
      " [23 12  8  5  8]]\n",
      "row 3: [[ 5  7  3 76  3]]\n"
     ]
    }
   ],
   "source": [
    "print(h)\n",
    "print(\"row 3:\", h[[2], :])"
   ]
  },
  {
   "cell_type": "markdown",
   "metadata": {},
   "source": [
    "#### 11. Print the all the elements of 4th columns of the matrix"
   ]
  },
  {
   "cell_type": "code",
   "execution_count": 11,
   "metadata": {},
   "outputs": [
    {
     "name": "stdout",
     "output_type": "stream",
     "text": [
      "[[ 9 25 50 34 45]\n",
      " [ 3 34 34 65  2]\n",
      " [ 5  7  3 76  3]\n",
      " [ 7  8  6 54  6]\n",
      " [23 12  8  5  8]]\n",
      "column 4: \n",
      " [[34]\n",
      " [65]\n",
      " [76]\n",
      " [54]\n",
      " [ 5]]\n"
     ]
    }
   ],
   "source": [
    "print(h)\n",
    "print(\"column 4: \\n\", h[:,[3]])"
   ]
  },
  {
   "cell_type": "markdown",
   "metadata": {},
   "source": [
    "#### 12. Print the 4 corner pixels of the matrix"
   ]
  },
  {
   "cell_type": "code",
   "execution_count": 12,
   "metadata": {},
   "outputs": [
    {
     "name": "stdout",
     "output_type": "stream",
     "text": [
      "original matrix is: \n",
      " [[ 9 25 50 34 45]\n",
      " [ 3 34 34 65  2]\n",
      " [ 5  7  3 76  3]\n",
      " [ 7  8  6 54  6]\n",
      " [23 12  8  5  8]]\n",
      "corner pixels: \n",
      " [[ 9 45]\n",
      " [23  8]]\n"
     ]
    }
   ],
   "source": [
    "print(\"original matrix is: \\n\", h)\n",
    "m,n = h.shape\n",
    "print(\"corner pixels: \\n\", h[::m-1, ::n-1])"
   ]
  },
  {
   "cell_type": "markdown",
   "metadata": {},
   "source": [
    "#### 13. Create three matrix m1,m2,m3 with the elements grouped in the figure below\n",
    "<img src = \"np_mat2.png\">"
   ]
  },
  {
   "cell_type": "code",
   "execution_count": 13,
   "metadata": {},
   "outputs": [
    {
     "name": "stdout",
     "output_type": "stream",
     "text": [
      "m1: \n",
      " [[50 34]\n",
      " [34 65]]\n",
      "m2: \n",
      " [[ 7  8]\n",
      " [23 12]]\n",
      "m3: \n",
      " [[ 3 76  3]\n",
      " [ 6 54  6]\n",
      " [ 8  5  8]]\n"
     ]
    }
   ],
   "source": [
    "m1 = h[:2, 2:4]\n",
    "print(\"m1: \\n\",m1)\n",
    "\n",
    "m2 = h[3:, :2]\n",
    "print(\"m2: \\n\",m2)\n",
    "\n",
    "m3 = h[2:, 2:]\n",
    "print(\"m3: \\n\",m3)"
   ]
  },
  {
   "cell_type": "markdown",
   "metadata": {},
   "source": [
    "#### 14. Reshape all the three matrix segmented in the above task in to three  1-dimensional vector."
   ]
  },
  {
   "cell_type": "code",
   "execution_count": 14,
   "metadata": {},
   "outputs": [
    {
     "name": "stdout",
     "output_type": "stream",
     "text": [
      "m1 reshaped: [50 34 34 65]\n",
      "m2 reshaped: [ 7  8 23 12]\n",
      "m3 reshaped: [ 3 76  3  6 54  6  8  5  8]\n"
     ]
    }
   ],
   "source": [
    "print(\"m1 reshaped:\", m1.flatten())\n",
    "print(\"m2 reshaped:\", m2.flatten())\n",
    "print(\"m3 reshaped:\", m3.flatten())"
   ]
  },
  {
   "cell_type": "markdown",
   "metadata": {},
   "source": [
    "#### 15. Concatenate the matrix m1 and m2 in both vertical and horizontal direction"
   ]
  },
  {
   "cell_type": "code",
   "execution_count": 15,
   "metadata": {},
   "outputs": [
    {
     "name": "stdout",
     "output_type": "stream",
     "text": [
      "vertical concatenated matrix: \n",
      " [[50 34]\n",
      " [34 65]\n",
      " [ 7  8]\n",
      " [23 12]]\n",
      "horizontal concatenated matrix: \n",
      " [[50 34  7  8]\n",
      " [34 65 23 12]]\n"
     ]
    }
   ],
   "source": [
    "vert = np.vstack((m1,m2))\n",
    "horz = np.hstack((m1,m2))\n",
    "print(\"vertical concatenated matrix: \\n\", vert)\n",
    "print(\"horizontal concatenated matrix: \\n\", horz)"
   ]
  },
  {
   "cell_type": "markdown",
   "metadata": {},
   "source": [
    "#### 16. Add, Subtract, multiply, divide the matrixes m1 and m2"
   ]
  },
  {
   "cell_type": "code",
   "execution_count": 16,
   "metadata": {},
   "outputs": [
    {
     "name": "stdout",
     "output_type": "stream",
     "text": [
      "matrix addition: \n",
      " [[57 42]\n",
      " [57 77]]\n",
      "matrix subtraction: \n",
      " [[43 26]\n",
      " [11 53]]\n",
      "matrix multiplication: \n",
      " [[1132  808]\n",
      " [1733 1052]]\n",
      "matrix division: \n",
      " [[7.14285714 4.25      ]\n",
      " [1.47826087 5.41666667]]\n"
     ]
    }
   ],
   "source": [
    "print(\"matrix addition: \\n\", np.add(m1,m2))\n",
    "print(\"matrix subtraction: \\n\", np.subtract(m1,m2))\n",
    "print(\"matrix multiplication: \\n\", np.matmul(m1,m2))\n",
    "print(\"matrix division: \\n\", np.divide(m1,m2))"
   ]
  },
  {
   "cell_type": "markdown",
   "metadata": {},
   "source": [
    "#### 17. Add the m1 with m3 by removing the first row and last column of m3"
   ]
  },
  {
   "cell_type": "code",
   "execution_count": 17,
   "metadata": {},
   "outputs": [
    {
     "name": "stdout",
     "output_type": "stream",
     "text": [
      "m1: \n",
      " [[50 34]\n",
      " [34 65]]\n",
      "m3: \n",
      " [[ 3 76  3]\n",
      " [ 6 54  6]\n",
      " [ 8  5  8]]\n",
      "new m3: \n",
      " [[ 6 54]\n",
      " [ 8  5]]\n",
      "m1+m3 gives: \n",
      " [[56 88]\n",
      " [42 70]]\n"
     ]
    }
   ],
   "source": [
    "print(\"m1: \\n\", m1)\n",
    "print(\"m3: \\n\", m3)\n",
    "new = np.delete(m3,0,0)\n",
    "new = np.delete(new,2,1)\n",
    "print(\"new m3: \\n\", new)\n",
    "print(\"m1+m3 gives: \\n\", m1+new)"
   ]
  },
  {
   "cell_type": "markdown",
   "metadata": {},
   "source": [
    "#### 18. Form the matrix m4 by concatenating (as a new row) the vector [me1, me2] with the matrix m1, where me1 and me2 are the mean values of each column on m1."
   ]
  },
  {
   "cell_type": "code",
   "execution_count": 18,
   "metadata": {},
   "outputs": [
    {
     "name": "stdout",
     "output_type": "stream",
     "text": [
      "m4: \n",
      " [[50.  34. ]\n",
      " [34.  65. ]\n",
      " [42.  49.5]]\n"
     ]
    }
   ],
   "source": [
    "me1 = m1[:,0].mean()\n",
    "me2 = m1[:,1].mean()\n",
    "newme = np.array([[me1,me2]])\n",
    "m4 = np.concatenate((m1,newme),axis=0)\n",
    "print(\"m4: \\n\", m4)"
   ]
  },
  {
   "cell_type": "markdown",
   "metadata": {},
   "source": [
    "#### 19. Perform the matrix multiplication between m3 and m4"
   ]
  },
  {
   "cell_type": "code",
   "execution_count": 19,
   "metadata": {},
   "outputs": [
    {
     "name": "stdout",
     "output_type": "stream",
     "text": [
      "multiplied matrix: \n",
      " [[2860.  5190.5]\n",
      " [2388.  4011. ]\n",
      " [ 906.   993. ]]\n"
     ]
    }
   ],
   "source": [
    "print(\"multiplied matrix: \\n\", np.matmul(m3,m4))"
   ]
  },
  {
   "cell_type": "markdown",
   "metadata": {},
   "source": [
    "#### 20. Compute the maximum and minimum value of mean, variance, standard deviation for each row of matrix created in question number 8."
   ]
  },
  {
   "cell_type": "code",
   "execution_count": 20,
   "metadata": {},
   "outputs": [
    {
     "name": "stdout",
     "output_type": "stream",
     "text": [
      "mean: \n",
      " [[32.6]\n",
      " [27.6]\n",
      " [18.8]\n",
      " [16.2]\n",
      " [11.2]]\n",
      "variance: \n",
      " [[214.64]\n",
      " [548.24]\n",
      " [820.16]\n",
      " [357.76]\n",
      " [ 39.76]]\n",
      "standard deviation: \n",
      " [[14.65059726]\n",
      " [23.41452541]\n",
      " [28.63843571]\n",
      " [18.91454467]\n",
      " [ 6.30555311]]\n",
      "minimum mean: 11.2\n",
      "maximum mean: 32.6\n",
      "minimum variance: 39.760000000000005\n",
      "maximum variance: 820.1600000000001\n",
      "minimum standard deviation: 6.305553108173779\n",
      "maximum standard deviation: 28.63843571147\n"
     ]
    }
   ],
   "source": [
    "r1 = np.mean(h, axis=1)[0]\n",
    "r2 = np.mean(h, axis=1)[1]\n",
    "r3 = np.mean(h, axis=1)[2]\n",
    "r4 = np.mean(h, axis=1)[3]\n",
    "r5 = np.mean(h, axis=1)[4]\n",
    "mean = np.vstack([r1,r2,r3,r4,r5])\n",
    "print(\"mean: \\n\", mean)\n",
    "v1 = np.var(h, axis=1)[0]\n",
    "v2 = np.var(h, axis=1)[1]\n",
    "v3 = np.var(h, axis=1)[2]\n",
    "v4 = np.var(h, axis=1)[3]\n",
    "v5 = np.var(h, axis=1)[4]\n",
    "vari = np.vstack([v1,v2,v3,v4,v5])\n",
    "print(\"variance: \\n\", vari)\n",
    "sd1 = np.std(h, axis=1)[0]\n",
    "sd2 = np.std(h, axis=1)[1]\n",
    "sd3 = np.std(h, axis=1)[2]\n",
    "sd4 = np.std(h, axis=1)[3]\n",
    "sd5 = np.std(h, axis=1)[4]\n",
    "sd = np.vstack([sd1,sd2,sd3,sd4,sd5])\n",
    "print(\"standard deviation: \\n\", sd)\n",
    "\n",
    "print(\"minimum mean:\" ,np.min(mean))\n",
    "print(\"maximum mean:\" ,np.max(mean))\n",
    "print(\"minimum variance:\" ,np.min(vari))\n",
    "print(\"maximum variance:\" ,np.max(vari))\n",
    "print(\"minimum standard deviation:\" ,np.min(sd))\n",
    "print(\"maximum standard deviation:\" ,np.max(sd))"
   ]
  },
  {
   "cell_type": "markdown",
   "metadata": {},
   "source": [
    "#### 21. Compute the average and strike rate for each player and sort it decending way (seperately for avg and strike rate)\n",
    "<img src = 'crick1.png'>"
   ]
  },
  {
   "cell_type": "code",
   "execution_count": 21,
   "metadata": {},
   "outputs": [
    {
     "name": "stdout",
     "output_type": "stream",
     "text": [
      "average for each player: \n",
      " [[47.25]\n",
      " [53.5 ]\n",
      " [51.5 ]\n",
      " [29.  ]\n",
      " [13.25]]\n",
      "descending order for player's average: \n",
      " [[53.5 ]\n",
      " [51.5 ]\n",
      " [47.25]\n",
      " [29.  ]\n",
      " [13.25]]\n",
      "strike rate for each player: \n",
      " [[ 98.4375    ]\n",
      " [101.42180095]\n",
      " [ 94.93087558]\n",
      " [161.11111111]\n",
      " [ 49.53271028]]\n",
      "descending order for player's strikerate: \n",
      " [[161.11111111]\n",
      " [101.42180095]\n",
      " [ 98.4375    ]\n",
      " [ 94.93087558]\n",
      " [ 49.53271028]]\n"
     ]
    }
   ],
   "source": [
    "runs = np.array([[54,60,10,65],[102,2,78,32],[3,110,1,92],[56,6,12,42],[12,8,22,11]])\n",
    "balls = np.array([[50,42,22,78],[95,8,65,43],[9,100,7,101],[27,3,11,31],[24,20,36,27]])\n",
    "\n",
    "msd = np.average(runs, axis=1)[0]\n",
    "koh = np.average(runs, axis=1)[1]\n",
    "roh = np.average(runs, axis=1)[2]\n",
    "rah = np.average(runs, axis=1)[3]\n",
    "dhw = np.average(runs, axis=1)[4]\n",
    "avg = np.vstack([msd,koh,roh,rah,dhw])\n",
    "print(\"average for each player: \\n\", avg)\n",
    "#avgsort = np.sort(avg, axis=0)\n",
    "#print(\"asc: \\n\", avgsort)\n",
    "print(\"descending order for player's average: \\n\", np.sort(avg, axis=0)[::-1])\n",
    "\n",
    "mrun = np.sum(runs, axis=1)[0]\n",
    "mball = np.sum(balls, axis=1)[0]\n",
    "krun = np.sum(runs, axis=1)[1]\n",
    "kball = np.sum(balls, axis=1)[1]\n",
    "rorun = np.sum(runs, axis=1)[2]\n",
    "roball = np.sum(balls, axis=1)[2]\n",
    "rarun = np.sum(runs, axis=1)[3]\n",
    "raball = np.sum(balls, axis=1)[3]\n",
    "drun = np.sum(runs, axis=1)[4]\n",
    "dball = np.sum(balls, axis=1)[4]\n",
    "\n",
    "totrun = np.vstack([mrun,krun,rorun,rarun,drun])\n",
    "totball = np.vstack([mball,kball,roball,raball,dball])\n",
    "strikerate = np.divide(totrun,totball)*100\n",
    "print(\"strike rate for each player: \\n\", strikerate)\n",
    "#srsort = np.sort(strikerate, axis=0)\n",
    "#print(\"asc: \\n\", srsort)\n",
    "print(\"descending order for player's strikerate: \\n\", np.sort(strikerate, axis=0)[::-1])"
   ]
  },
  {
   "cell_type": "markdown",
   "metadata": {},
   "source": [
    "#### 22. The students mark was recorded in a numpy array: marks = np.array([65,84,47,56,89,98,48,77,80,39]).  Cutoff for pass is 50 marks. Write the logic to print the number of students passed and failed. "
   ]
  },
  {
   "cell_type": "code",
   "execution_count": 22,
   "metadata": {},
   "outputs": [
    {
     "name": "stdout",
     "output_type": "stream",
     "text": [
      "number of students passed: 7\n",
      "number of students failed: 3\n"
     ]
    }
   ],
   "source": [
    "marks = np.array([65,84,47,56,89,98,48,77,80,39])\n",
    "passed = (marks[:]>=50).sum()\n",
    "failed = (marks[:]<50).sum()\n",
    "print(\"number of students passed:\", passed)\n",
    "print(\"number of students failed:\", failed)"
   ]
  },
  {
   "cell_type": "markdown",
   "metadata": {},
   "source": [
    "#### 23. The class incharge decided to give a mercy mark of 5 for those who scored between 45 and 49. Also the bonus of 5 marks awarded to the students who scored more than 80. Print all the student marks and compute the increase in the pass percentage of class. Any score more than 100 must be recorded as only 100."
   ]
  },
  {
   "cell_type": "code",
   "execution_count": 24,
   "metadata": {},
   "outputs": [
    {
     "name": "stdout",
     "output_type": "stream",
     "text": [
      "initial student marks: [65 84 47 56 89 98 48 77 80 39]\n",
      "students passed: 7 , students failed: 3\n",
      "initial class pass percent: 70.0\n",
      "new marks obtained after mercy marks: [ 65  89  52  56  94 100  53  77  80  39]\n",
      "students passed: 9 , students failed: 1\n",
      "new class pass percent: 90.0\n",
      "increase in class percent: 20.0\n"
     ]
    }
   ],
   "source": [
    "marks = np.array([65,84,47,56,89,98,48,77,80,39])\n",
    "print(\"initial student marks:\",marks)\n",
    "print(\"students passed:\",(marks>=50).sum(), \", students failed:\",((marks)<50).sum())\n",
    "tot = len(marks)\n",
    "passrate = np.divide(passed,tot)*100\n",
    "print(\"initial class pass percent:\", passrate)\n",
    "\n",
    "for i in range(0,tot):\n",
    "    if(((marks[i]>45)&(marks[i]<49))|(marks[i]>80)):\n",
    "        marks[i] = marks[i] + 5\n",
    "        if(marks[i]>=100):\n",
    "            marks[i]=100\n",
    "\n",
    "print(\"new marks obtained after mercy marks:\",marks)\n",
    "newpassval = (marks[:]>=50).sum()\n",
    "newpassrate = np.divide(newpassval,tot)*100\n",
    "print(\"students passed:\",(marks>=50).sum(), \", students failed:\",((marks)<50).sum())\n",
    "print(\"new class pass percent:\",newpassrate)\n",
    "print(\"increase in class percent:\",newpassrate-passrate)"
   ]
  },
  {
   "cell_type": "markdown",
   "metadata": {},
   "source": [
    "#### 24. Print the time taken for performing the following operation using list and numpy array\n",
    "####       (x(i)^2 +8) / y(i),   where x and y are real integers from 1 to 60000"
   ]
  },
  {
   "cell_type": "code",
   "execution_count": 25,
   "metadata": {},
   "outputs": [
    {
     "name": "stdout",
     "output_type": "stream",
     "text": [
      "Wall time: 96 ms\n",
      "The time taken to perform the operation by list is: 0.11408424377441406\n",
      "Wall time: 93.6 ms\n",
      "The time taken to perform the operation by numpy is: 0.09363007545471191\n"
     ]
    }
   ],
   "source": [
    "import time\n",
    "def lis():\n",
    "    ax = list(range(1,60000))\n",
    "    by = list(range(1,60000))\n",
    "    fin = []\n",
    "    for i in range(len(ax)):\n",
    "        fin.append(((ax[i]**2)+8)/by[i])\n",
    "\n",
    "def nump():\n",
    "    ax2 = np.array(range(1,60000))\n",
    "    by2 = np.array(range(1,60000))\n",
    "    fin = ((ax2**2)+8)/by2\n",
    "st_time = time.time()\n",
    "%time lis()\n",
    "end_time = time.time()\n",
    "print(\"The time taken to perform the operation by list is:\", end_time-st_time)\n",
    "st2_time = time.time()\n",
    "%time nump()\n",
    "end2_time = time.time()\n",
    "print(\"The time taken to perform the operation by numpy is:\", end2_time-st2_time)"
   ]
  },
  {
   "cell_type": "markdown",
   "metadata": {},
   "source": [
    "#### 25. Create a Github account and upload your solution with the short write-up on Numpy"
   ]
  },
  {
   "cell_type": "code",
   "execution_count": 26,
   "metadata": {},
   "outputs": [],
   "source": [
    "#https://github.com/ashika7"
   ]
  }
 ],
 "metadata": {
  "kernelspec": {
   "display_name": "Python 3",
   "language": "python",
   "name": "python3"
  },
  "language_info": {
   "codemirror_mode": {
    "name": "ipython",
    "version": 3
   },
   "file_extension": ".py",
   "mimetype": "text/x-python",
   "name": "python",
   "nbconvert_exporter": "python",
   "pygments_lexer": "ipython3",
   "version": "3.8.8"
  }
 },
 "nbformat": 4,
 "nbformat_minor": 2
}
